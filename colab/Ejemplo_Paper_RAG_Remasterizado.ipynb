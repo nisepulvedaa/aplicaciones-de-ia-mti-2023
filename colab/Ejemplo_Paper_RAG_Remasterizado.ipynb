{
  "nbformat": 4,
  "nbformat_minor": 0,
  "metadata": {
    "colab": {
      "provenance": []
    },
    "kernelspec": {
      "name": "python3",
      "display_name": "Python 3"
    },
    "language_info": {
      "name": "python"
    }
  },
  "cells": [
    {
      "cell_type": "markdown",
      "source": [
        "# Intalación de Paquetes de Python"
      ],
      "metadata": {
        "id": "QybAZgmFhp_u"
      }
    },
    {
      "cell_type": "code",
      "execution_count": null,
      "metadata": {
        "colab": {
          "base_uri": "https://localhost:8080/"
        },
        "id": "R4YQp-WqhO60",
        "outputId": "e3bab1c5-1709-49a4-88fa-a26b6ecec4a0"
      },
      "outputs": [
        {
          "output_type": "stream",
          "name": "stdout",
          "text": [
            "\u001b[?25l   \u001b[90m━━━━━━━━━━━━━━━━━━━━━━━━━━━━━━━━━━━━━━━━\u001b[0m \u001b[32m0.0/54.9 kB\u001b[0m \u001b[31m?\u001b[0m eta \u001b[36m-:--:--\u001b[0m\r\u001b[2K   \u001b[90m━━━━━━━━━━━━━━━━━━━━━━━━━━━━━━━━━━━━━━━━\u001b[0m \u001b[32m54.9/54.9 kB\u001b[0m \u001b[31m3.3 MB/s\u001b[0m eta \u001b[36m0:00:00\u001b[0m\n",
            "\u001b[?25h\u001b[?25l   \u001b[90m━━━━━━━━━━━━━━━━━━━━━━━━━━━━━━━━━━━━━━━━\u001b[0m \u001b[32m0.0/2.5 MB\u001b[0m \u001b[31m?\u001b[0m eta \u001b[36m-:--:--\u001b[0m\r\u001b[2K   \u001b[91m━━━━━━━━━━━━━━━━━━━━━━━━━━━━━━━\u001b[0m\u001b[90m╺\u001b[0m\u001b[90m━━━━━━━━\u001b[0m \u001b[32m2.0/2.5 MB\u001b[0m \u001b[31m62.5 MB/s\u001b[0m eta \u001b[36m0:00:01\u001b[0m\r\u001b[2K   \u001b[91m━━━━━━━━━━━━━━━━━━━━━━━━━━━━━━━━━━━━━━━\u001b[0m\u001b[91m╸\u001b[0m \u001b[32m2.5/2.5 MB\u001b[0m \u001b[31m57.1 MB/s\u001b[0m eta \u001b[36m0:00:01\u001b[0m\r\u001b[2K   \u001b[90m━━━━━━━━━━━━━━━━━━━━━━━━━━━━━━━━━━━━━━━━\u001b[0m \u001b[32m2.5/2.5 MB\u001b[0m \u001b[31m33.7 MB/s\u001b[0m eta \u001b[36m0:00:00\u001b[0m\n",
            "\u001b[2K   \u001b[90m━━━━━━━━━━━━━━━━━━━━━━━━━━━━━━━━━━━━━━━━\u001b[0m \u001b[32m151.5/151.5 kB\u001b[0m \u001b[31m6.6 MB/s\u001b[0m eta \u001b[36m0:00:00\u001b[0m\n",
            "\u001b[2K   \u001b[90m━━━━━━━━━━━━━━━━━━━━━━━━━━━━━━━━━━━━━━━━\u001b[0m \u001b[32m44.7/44.7 kB\u001b[0m \u001b[31m2.8 MB/s\u001b[0m eta \u001b[36m0:00:00\u001b[0m\n",
            "\u001b[2K   \u001b[90m━━━━━━━━━━━━━━━━━━━━━━━━━━━━━━━━━━━━━━━━\u001b[0m \u001b[32m1.2/1.2 MB\u001b[0m \u001b[31m41.3 MB/s\u001b[0m eta \u001b[36m0:00:00\u001b[0m\n",
            "\u001b[2K   \u001b[90m━━━━━━━━━━━━━━━━━━━━━━━━━━━━━━━━━━━━━━━━\u001b[0m \u001b[32m50.9/50.9 kB\u001b[0m \u001b[31m3.2 MB/s\u001b[0m eta \u001b[36m0:00:00\u001b[0m\n",
            "\u001b[?25h"
          ]
        }
      ],
      "source": [
        "!pip install -q langchain_openai langchain_community langchainhub langchain langgraph"
      ]
    },
    {
      "cell_type": "code",
      "source": [
        "!pip install -q pypdf"
      ],
      "metadata": {
        "colab": {
          "base_uri": "https://localhost:8080/"
        },
        "id": "5FNE36lwhxLE",
        "outputId": "9457a140-75af-45fd-f037-594cc5024647"
      },
      "execution_count": null,
      "outputs": [
        {
          "output_type": "stream",
          "name": "stdout",
          "text": [
            "\u001b[?25l   \u001b[90m━━━━━━━━━━━━━━━━━━━━━━━━━━━━━━━━━━━━━━━━\u001b[0m \u001b[32m0.0/300.7 kB\u001b[0m \u001b[31m?\u001b[0m eta \u001b[36m-:--:--\u001b[0m\r\u001b[2K   \u001b[91m━━━━━━━━━━━━━━━━━━━━━━━━━━━━━━━━━━━━\u001b[0m\u001b[91m╸\u001b[0m\u001b[90m━━━\u001b[0m \u001b[32m276.5/300.7 kB\u001b[0m \u001b[31m8.1 MB/s\u001b[0m eta \u001b[36m0:00:01\u001b[0m\r\u001b[2K   \u001b[90m━━━━━━━━━━━━━━━━━━━━━━━━━━━━━━━━━━━━━━━━\u001b[0m \u001b[32m300.7/300.7 kB\u001b[0m \u001b[31m5.9 MB/s\u001b[0m eta \u001b[36m0:00:00\u001b[0m\n",
            "\u001b[?25h"
          ]
        }
      ]
    },
    {
      "cell_type": "code",
      "source": [
        "!pip install -q tiktoken chromadb pypdf tavily-python"
      ],
      "metadata": {
        "colab": {
          "base_uri": "https://localhost:8080/"
        },
        "id": "UAnSruCRjUvR",
        "outputId": "2fa746f1-9743-4407-ba12-ff09f7b2fb0f"
      },
      "execution_count": null,
      "outputs": [
        {
          "output_type": "stream",
          "name": "stdout",
          "text": [
            "\u001b[2K     \u001b[90m━━━━━━━━━━━━━━━━━━━━━━━━━━━━━━━━━━━━━━━━\u001b[0m \u001b[32m91.0/91.0 kB\u001b[0m \u001b[31m3.4 MB/s\u001b[0m eta \u001b[36m0:00:00\u001b[0m\n",
            "\u001b[2K     \u001b[90m━━━━━━━━━━━━━━━━━━━━━━━━━━━━━━━━━━━━━━━━\u001b[0m \u001b[32m67.3/67.3 kB\u001b[0m \u001b[31m3.1 MB/s\u001b[0m eta \u001b[36m0:00:00\u001b[0m\n",
            "\u001b[?25h  Installing build dependencies ... \u001b[?25l\u001b[?25hdone\n",
            "  Getting requirements to build wheel ... \u001b[?25l\u001b[?25hdone\n",
            "  Preparing metadata (pyproject.toml) ... \u001b[?25l\u001b[?25hdone\n",
            "\u001b[2K   \u001b[90m━━━━━━━━━━━━━━━━━━━━━━━━━━━━━━━━━━━━━━━━\u001b[0m \u001b[32m611.1/611.1 kB\u001b[0m \u001b[31m20.7 MB/s\u001b[0m eta \u001b[36m0:00:00\u001b[0m\n",
            "\u001b[2K   \u001b[90m━━━━━━━━━━━━━━━━━━━━━━━━━━━━━━━━━━━━━━━━\u001b[0m \u001b[32m2.4/2.4 MB\u001b[0m \u001b[31m46.5 MB/s\u001b[0m eta \u001b[36m0:00:00\u001b[0m\n",
            "\u001b[2K   \u001b[90m━━━━━━━━━━━━━━━━━━━━━━━━━━━━━━━━━━━━━━━━\u001b[0m \u001b[32m43.8/43.8 kB\u001b[0m \u001b[31m2.9 MB/s\u001b[0m eta \u001b[36m0:00:00\u001b[0m\n",
            "\u001b[2K   \u001b[90m━━━━━━━━━━━━━━━━━━━━━━━━━━━━━━━━━━━━━━━━\u001b[0m \u001b[32m278.6/278.6 kB\u001b[0m \u001b[31m16.1 MB/s\u001b[0m eta \u001b[36m0:00:00\u001b[0m\n",
            "\u001b[2K   \u001b[90m━━━━━━━━━━━━━━━━━━━━━━━━━━━━━━━━━━━━━━━━\u001b[0m \u001b[32m94.8/94.8 kB\u001b[0m \u001b[31m6.8 MB/s\u001b[0m eta \u001b[36m0:00:00\u001b[0m\n",
            "\u001b[2K   \u001b[90m━━━━━━━━━━━━━━━━━━━━━━━━━━━━━━━━━━━━━━━━\u001b[0m \u001b[32m2.0/2.0 MB\u001b[0m \u001b[31m49.7 MB/s\u001b[0m eta \u001b[36m0:00:00\u001b[0m\n",
            "\u001b[2K   \u001b[90m━━━━━━━━━━━━━━━━━━━━━━━━━━━━━━━━━━━━━━━━\u001b[0m \u001b[32m101.6/101.6 kB\u001b[0m \u001b[31m6.6 MB/s\u001b[0m eta \u001b[36m0:00:00\u001b[0m\n",
            "\u001b[2K   \u001b[90m━━━━━━━━━━━━━━━━━━━━━━━━━━━━━━━━━━━━━━━━\u001b[0m \u001b[32m13.3/13.3 MB\u001b[0m \u001b[31m49.3 MB/s\u001b[0m eta \u001b[36m0:00:00\u001b[0m\n",
            "\u001b[2K   \u001b[90m━━━━━━━━━━━━━━━━━━━━━━━━━━━━━━━━━━━━━━━━\u001b[0m \u001b[32m55.9/55.9 kB\u001b[0m \u001b[31m3.6 MB/s\u001b[0m eta \u001b[36m0:00:00\u001b[0m\n",
            "\u001b[2K   \u001b[90m━━━━━━━━━━━━━━━━━━━━━━━━━━━━━━━━━━━━━━━━\u001b[0m \u001b[32m177.4/177.4 kB\u001b[0m \u001b[31m10.0 MB/s\u001b[0m eta \u001b[36m0:00:00\u001b[0m\n",
            "\u001b[2K   \u001b[90m━━━━━━━━━━━━━━━━━━━━━━━━━━━━━━━━━━━━━━━━\u001b[0m \u001b[32m65.0/65.0 kB\u001b[0m \u001b[31m4.7 MB/s\u001b[0m eta \u001b[36m0:00:00\u001b[0m\n",
            "\u001b[2K   \u001b[90m━━━━━━━━━━━━━━━━━━━━━━━━━━━━━━━━━━━━━━━━\u001b[0m \u001b[32m118.7/118.7 kB\u001b[0m \u001b[31m7.9 MB/s\u001b[0m eta \u001b[36m0:00:00\u001b[0m\n",
            "\u001b[2K   \u001b[90m━━━━━━━━━━━━━━━━━━━━━━━━━━━━━━━━━━━━━━━━\u001b[0m \u001b[32m73.0/73.0 kB\u001b[0m \u001b[31m4.7 MB/s\u001b[0m eta \u001b[36m0:00:00\u001b[0m\n",
            "\u001b[2K   \u001b[90m━━━━━━━━━━━━━━━━━━━━━━━━━━━━━━━━━━━━━━━━\u001b[0m \u001b[32m62.3/62.3 kB\u001b[0m \u001b[31m3.7 MB/s\u001b[0m eta \u001b[36m0:00:00\u001b[0m\n",
            "\u001b[2K   \u001b[90m━━━━━━━━━━━━━━━━━━━━━━━━━━━━━━━━━━━━━━━━\u001b[0m \u001b[32m459.8/459.8 kB\u001b[0m \u001b[31m20.5 MB/s\u001b[0m eta \u001b[36m0:00:00\u001b[0m\n",
            "\u001b[2K   \u001b[90m━━━━━━━━━━━━━━━━━━━━━━━━━━━━━━━━━━━━━━━━\u001b[0m \u001b[32m319.7/319.7 kB\u001b[0m \u001b[31m19.2 MB/s\u001b[0m eta \u001b[36m0:00:00\u001b[0m\n",
            "\u001b[2K   \u001b[90m━━━━━━━━━━━━━━━━━━━━━━━━━━━━━━━━━━━━━━━━\u001b[0m \u001b[32m71.5/71.5 kB\u001b[0m \u001b[31m4.2 MB/s\u001b[0m eta \u001b[36m0:00:00\u001b[0m\n",
            "\u001b[2K   \u001b[90m━━━━━━━━━━━━━━━━━━━━━━━━━━━━━━━━━━━━━━━━\u001b[0m \u001b[32m4.0/4.0 MB\u001b[0m \u001b[31m59.5 MB/s\u001b[0m eta \u001b[36m0:00:00\u001b[0m\n",
            "\u001b[2K   \u001b[90m━━━━━━━━━━━━━━━━━━━━━━━━━━━━━━━━━━━━━━━━\u001b[0m \u001b[32m452.6/452.6 kB\u001b[0m \u001b[31m16.2 MB/s\u001b[0m eta \u001b[36m0:00:00\u001b[0m\n",
            "\u001b[2K   \u001b[90m━━━━━━━━━━━━━━━━━━━━━━━━━━━━━━━━━━━━━━━━\u001b[0m \u001b[32m46.0/46.0 kB\u001b[0m \u001b[31m3.5 MB/s\u001b[0m eta \u001b[36m0:00:00\u001b[0m\n",
            "\u001b[2K   \u001b[90m━━━━━━━━━━━━━━━━━━━━━━━━━━━━━━━━━━━━━━━━\u001b[0m \u001b[32m86.8/86.8 kB\u001b[0m \u001b[31m5.6 MB/s\u001b[0m eta \u001b[36m0:00:00\u001b[0m\n",
            "\u001b[?25h  Building wheel for pypika (pyproject.toml) ... \u001b[?25l\u001b[?25hdone\n"
          ]
        }
      ]
    },
    {
      "cell_type": "markdown",
      "source": [
        "# Conectamos el Colab con Nuestro Drive"
      ],
      "metadata": {
        "id": "yXZVDSu3iVXT"
      }
    },
    {
      "cell_type": "code",
      "source": [
        "from google.colab import drive\n",
        "drive.mount('/content/drive')"
      ],
      "metadata": {
        "colab": {
          "base_uri": "https://localhost:8080/"
        },
        "id": "HcHGiZNaic5S",
        "outputId": "ee1ab029-4579-4afa-e9c9-0a19126afedb"
      },
      "execution_count": null,
      "outputs": [
        {
          "output_type": "stream",
          "name": "stdout",
          "text": [
            "Mounted at /content/drive\n"
          ]
        }
      ]
    },
    {
      "cell_type": "code",
      "source": [
        "cd /content/drive/MyDrive/RAG"
      ],
      "metadata": {
        "colab": {
          "base_uri": "https://localhost:8080/"
        },
        "id": "pMQZSQG0i0rg",
        "outputId": "03d02c2f-80db-40f0-ce17-6df7d9e5cfb0"
      },
      "execution_count": null,
      "outputs": [
        {
          "output_type": "stream",
          "name": "stdout",
          "text": [
            "/content/drive/MyDrive/RAG\n"
          ]
        }
      ]
    },
    {
      "cell_type": "markdown",
      "source": [
        "# Lectura de Archivos PDF"
      ],
      "metadata": {
        "id": "2XzIjw0Ai3KK"
      }
    },
    {
      "cell_type": "code",
      "source": [
        "from langchain.document_loaders import PyPDFLoader"
      ],
      "metadata": {
        "id": "g1SiEbUfi22I"
      },
      "execution_count": null,
      "outputs": []
    },
    {
      "cell_type": "code",
      "source": [
        "from dotenv import load_dotenv\n",
        "load_dotenv()"
      ],
      "metadata": {
        "colab": {
          "base_uri": "https://localhost:8080/"
        },
        "id": "_titaBVsjNNg",
        "outputId": "221fd217-3723-404f-bafc-adbb875781ab"
      },
      "execution_count": null,
      "outputs": [
        {
          "output_type": "execute_result",
          "data": {
            "text/plain": [
              "True"
            ]
          },
          "metadata": {},
          "execution_count": 6
        }
      ]
    },
    {
      "cell_type": "code",
      "source": [
        "from langchain.text_splitter import RecursiveCharacterTextSplitter\n",
        "from langchain_openai import OpenAIEmbeddings\n",
        "from langchain_community.vectorstores import Chroma\n",
        "from langchain_openai import ChatOpenAI"
      ],
      "metadata": {
        "id": "NTctivqmjfMQ"
      },
      "execution_count": null,
      "outputs": []
    },
    {
      "cell_type": "code",
      "source": [
        "loader = PyPDFLoader('/content/drive/MyDrive/RAG/RAGdata/Dress_Code_Standards.pdf')\n",
        "docs = loader.load()\n",
        "docs"
      ],
      "metadata": {
        "colab": {
          "base_uri": "https://localhost:8080/"
        },
        "id": "etjO5dvcjpBR",
        "outputId": "c670bff6-cb2b-47a3-9bb1-78a83077ab4b"
      },
      "execution_count": null,
      "outputs": [
        {
          "output_type": "execute_result",
          "data": {
            "text/plain": [
              "[Document(metadata={'producer': 'Skia/PDF m134 Google Docs Renderer', 'creator': 'PyPDF', 'creationdate': '', 'title': 'Dress Code Standards', 'source': '/content/drive/MyDrive/RAG/RAGdata/Dress_Code_Standards.pdf', 'total_pages': 2, 'page': 0, 'page_label': '1'}, page_content='Dress  Code  Guidelines  for  Work  \\n \\n1.  Purpose  Taking  into  account  the  individuality  of  each  employee  according  to  the  nature  of  the  \\nbusiness,\\n \\nemployees\\n \\nare\\n \\nexpected\\n \\nto\\n \\nwear\\n \\nwork\\n \\nattire\\n \\nthat\\n \\nreflects\\n \\nprofessionalism\\n \\nand\\n \\ndecorum.\\n \\n2.  Considerations  for  Dress  Selection  1.  Maintain  honor  and  dignity  as  professionals.  2.  Always  uphold  neat  and  clean  attire.  3.  Choose  attire  based  on  multiple  objective  criteria.  4.  Wear  clothing  that  does  not  offend  others  or  clients.  \\n3.  Applicability  1.  All  employees.  2.  For  employees  working  with  client  companies,  follow  the  dress  code  of  the  respective  \\nclient.\\n \\n4.  Dress  Standards  1.  Maintain  a  neat  and  simple  business  casual  attire,  with  the  option  of  jeans  and  \\nsneakers.\\n 2.  Avoid  attire  that  is  excessively  revealing  or  flashy.  3.  Shorts  are  permissible  only  from  June  to  September.  ●  Considering  professional  etiquette,  shorts  should  be  4  to  5  inches  above  the  knee  \\nlength\\n \\nand\\n \\nshould\\n \\nhave\\n \\na\\n \\nmodest\\n \\ndesign,\\n \\neither\\n \\nformal\\n \\nor\\n \\nmade\\n \\nof\\n \\ncotton\\n \\nfabric.\\n ●  Extremely  short  shorts  (revealing  the  upper  thigh  while  standing),  athletic  wear,  \\noverly\\n \\nflashy\\n \\npatterns,\\n \\netc.,\\n \\nshould\\n \\nbe\\n \\navoided.\\n ●  Footwear  should  not  include  slippers;  loafers,  sneakers,  or  other  well-maintained  \\nshoes\\n \\nthat\\n \\nsuit\\n \\nshorts\\n \\nare\\n \\nappropriate.\\n    \\nAttire  for  Male  Employees  \\nCategory  Business  Casual  Clothing  to  Avoid  \\nJacket  -  Suit  jacket  -  Suit  jacket  can  be  removed  in  hot  weather  \\n-  Denim  (jean)  jacket,  parka,  sportswear  \\nShirt  -  Dress  shirt  (short-sleeved  shirt  available)  -  Casual  shirts  with  collars,  T-shirts  -  Neat  attire  without  collar  is  possible  -  No  tie  allowed  \\n-  Hoodie,  sleeveless,  round  tee,  etc.  -  Clothes  that  are  too  revealing  -  T-shirts  printed  with  sexually/politically  aggressive  content,  etc.'),\n",
              " Document(metadata={'producer': 'Skia/PDF m134 Google Docs Renderer', 'creator': 'PyPDF', 'creationdate': '', 'title': 'Dress Code Standards', 'source': '/content/drive/MyDrive/RAG/RAGdata/Dress_Code_Standards.pdf', 'total_pages': 2, 'page': 1, 'page_label': '2'}, page_content='Pants  -  Suit  pants  -  Neat  cotton  pants  -  Shorts  available  in  summer  \\n-  Ripped  jeans,  cargo  pants,  etc.  -  Primary  color  cotton  pants  \\nShoes  -  Formal  shoes  -  Neat  casual  shoes  \\n-  Sandals,  boots,  walkers,  slippers  \\nEtc.  -  Wear  a  belt  -  Socks  (color  that  matches  clothes)  \\n-  Excessive  accessories,  hats  \\n \\nAttire  for  Female  Employees   Category  Business  Casual  Clothing  to  Avoid  \\nTop  -  Neat  attire  that  allows  you  to  comfortably  combine  tops  and  bottoms  (Suit  jacket,  blouse,  etc.)  -  Collared  blouse,  knit  available  \\n-  Jeans,  jackets,  jumpers,  sportswear  -  Wearing  revealing  or  tight  clothing  (sleeveless,  tank  top,  etc.)  \\nPants  -  Skirts  of  appropriate  length  -  Suit  pants  -  Neat  cotton  pants  -  Shorts  available  in  summer  \\n-  Excessively  short  or  tight  skirts  -  Ripped  jeans,  jean  skirts,  etc.  -  Primary  color  cotton  pants  \\nShoes  -  Formal  shoes  -  Slippers,  long  boots,  sandals  without  back  straps')]"
            ]
          },
          "metadata": {},
          "execution_count": 9
        }
      ]
    },
    {
      "cell_type": "markdown",
      "source": [
        "## Carga del Modelo para generar embeddings"
      ],
      "metadata": {
        "id": "1bQrQw-TkAdJ"
      }
    },
    {
      "cell_type": "code",
      "source": [
        "llm = ChatOpenAI(model=\"gpt-4-turbo\", temperature=0)\n",
        "openai_embed_model = OpenAIEmbeddings(model='text-embedding-3-small')"
      ],
      "metadata": {
        "id": "RokrucG_jrKT"
      },
      "execution_count": null,
      "outputs": []
    },
    {
      "cell_type": "markdown",
      "source": [
        "## Separar los documentos"
      ],
      "metadata": {
        "id": "1Zu_O1cVkquJ"
      }
    },
    {
      "cell_type": "code",
      "source": [
        "text_splitter = RecursiveCharacterTextSplitter(chunk_size=300, chunk_overlap=30)\n",
        "chunked_docs = text_splitter.split_documents(docs)\n",
        "chunked_docs[:2]"
      ],
      "metadata": {
        "colab": {
          "base_uri": "https://localhost:8080/"
        },
        "id": "ruVZbr9okvWx",
        "outputId": "c5156cdc-0b29-4c19-87bc-71c32783ba1f"
      },
      "execution_count": null,
      "outputs": [
        {
          "output_type": "execute_result",
          "data": {
            "text/plain": [
              "[Document(metadata={'producer': 'Skia/PDF m134 Google Docs Renderer', 'creator': 'PyPDF', 'creationdate': '', 'title': 'Dress Code Standards', 'source': '/content/drive/MyDrive/RAG/RAGdata/Dress_Code_Standards.pdf', 'total_pages': 2, 'page': 0, 'page_label': '1'}, page_content='Dress  Code  Guidelines  for  Work  \\n \\n1.  Purpose  Taking  into  account  the  individuality  of  each  employee  according  to  the  nature  of  the  \\nbusiness,\\n \\nemployees\\n \\nare\\n \\nexpected\\n \\nto\\n \\nwear\\n \\nwork\\n \\nattire\\n \\nthat\\n \\nreflects\\n \\nprofessionalism\\n \\nand\\n \\ndecorum.'),\n",
              " Document(metadata={'producer': 'Skia/PDF m134 Google Docs Renderer', 'creator': 'PyPDF', 'creationdate': '', 'title': 'Dress Code Standards', 'source': '/content/drive/MyDrive/RAG/RAGdata/Dress_Code_Standards.pdf', 'total_pages': 2, 'page': 0, 'page_label': '1'}, page_content='and\\n \\ndecorum.\\n \\n2.  Considerations  for  Dress  Selection  1.  Maintain  honor  and  dignity  as  professionals.  2.  Always  uphold  neat  and  clean  attire.  3.  Choose  attire  based  on  multiple  objective  criteria.  4.  Wear  clothing  that  does  not  offend  others  or  clients.')]"
            ]
          },
          "metadata": {},
          "execution_count": 11
        }
      ]
    },
    {
      "cell_type": "markdown",
      "source": [
        "## Inicializamos base de datos vectorial"
      ],
      "metadata": {
        "id": "aqOprEXyk3P3"
      }
    },
    {
      "cell_type": "code",
      "source": [
        "vectorstore = Chroma.from_documents(documents=chunked_docs, collection_name=\"rag_pdf_db\", embedding=openai_embed_model,)\n",
        "retriever = vectorstore.as_retriever()\n",
        "print(retriever)"
      ],
      "metadata": {
        "colab": {
          "base_uri": "https://localhost:8080/"
        },
        "id": "QJ-gN0cUk6dI",
        "outputId": "2fea03ab-2611-4c7b-a8e3-15d5d82e3562"
      },
      "execution_count": null,
      "outputs": [
        {
          "output_type": "stream",
          "name": "stdout",
          "text": [
            "tags=['Chroma', 'OpenAIEmbeddings'] vectorstore=<langchain_community.vectorstores.chroma.Chroma object at 0x798d2fe090d0> search_kwargs={}\n"
          ]
        }
      ]
    },
    {
      "cell_type": "markdown",
      "source": [
        "### Agent 1"
      ],
      "metadata": {
        "id": "EcxofbjPlfZO"
      }
    },
    {
      "cell_type": "code",
      "source": [
        "#Implement the Retrieval Grader Fig 6 Paper\n",
        "from langchain_core.prompts import ChatPromptTemplate\n",
        "from langchain_core.pydantic_v1 import BaseModel, Field\n",
        "from langchain_openai import ChatOpenAI\n",
        "#Data model for LLM output format\n",
        "class GradeDocuments(BaseModel):\n",
        "  \"\"\"A binary score for checking relevance of retrieved documents. \"\"\"\n",
        "  binary_score: str = Field(\n",
        "      description=\"Rates whether the document is relevant to the question with a 'yes' or 'no' \"\n",
        "  )\n",
        "\n",
        "#LLM for grading\n",
        "llm = ChatOpenAI(model=\"gpt-4-turbo\", temperature=0)\n",
        "structured_llm_grader = llm.with_structured_output(GradeDocuments)\n",
        "#Propmt template for grading\n",
        "SYS_PROMPT = \"\"\" You are a professional evaluator who evaluates the relevance of searched  documents\n",
        "                - We assign a relevance rating to documents if they contain keywords or semantics\n",
        "                - Your rating should be 'yes' or 'no' indicating whether the article is  relevant\n",
        "             \"\"\"\n",
        "grade_prompt = ChatPromptTemplate.from_messages(\n",
        "    [\n",
        "        (\"system\", SYS_PROMPT),\n",
        "        (\"human\", \"\"\"Searched Documents: {document}\n",
        "                     User Questions: {question} \"\"\"),\n",
        "    ]\n",
        ")\n",
        "doc_grader = (grade_prompt | structured_llm_grader)\n",
        "print(doc_grader)"
      ],
      "metadata": {
        "colab": {
          "base_uri": "https://localhost:8080/"
        },
        "id": "3pdMsF-blF13",
        "outputId": "cb3fd8b9-20dd-416d-f761-c32b37c566de"
      },
      "execution_count": null,
      "outputs": [
        {
          "output_type": "stream",
          "name": "stdout",
          "text": [
            "first=ChatPromptTemplate(input_variables=['document', 'question'], input_types={}, partial_variables={}, messages=[SystemMessagePromptTemplate(prompt=PromptTemplate(input_variables=[], input_types={}, partial_variables={}, template=\" You are a professional evaluator who evaluates the relevance of searched  documents\\n                - We assign a relevance rating to documents if they contain keywords or semantics\\n                - Your rating should be 'yes' or 'no' indicating whether the article is  relevant\\n             \"), additional_kwargs={}), HumanMessagePromptTemplate(prompt=PromptTemplate(input_variables=['document', 'question'], input_types={}, partial_variables={}, template='Searched Documents: {document}\\n                     User Questions: {question} '), additional_kwargs={})]) middle=[RunnableBinding(bound=ChatOpenAI(client=<openai.resources.chat.completions.Completions object at 0x798d27f166d0>, async_client=<openai.resources.chat.completions.AsyncCompletions object at 0x798d64db77d0>, root_client=<openai.OpenAI object at 0x798d2cc83150>, root_async_client=<openai.AsyncOpenAI object at 0x798d2c500610>, model_name='gpt-4-turbo', temperature=0.0, model_kwargs={}, openai_api_key=SecretStr('**********')), kwargs={'tools': [{'type': 'function', 'function': {'name': 'GradeDocuments', 'description': 'A binary score for checking relevance of retrieved documents. ', 'parameters': {'type': 'object', 'properties': {'binary_score': {'description': \"Rates whether the document is relevant to the question with a 'yes' or 'no' \", 'type': 'string'}}, 'required': ['binary_score']}}}], 'structured_output_format': {'kwargs': {'method': 'function_calling'}, 'schema': <class '__main__.GradeDocuments'>}, 'parallel_tool_calls': False, 'tool_choice': {'type': 'function', 'function': {'name': 'GradeDocuments'}}}, config={}, config_factories=[])] last=PydanticToolsParser(first_tool_only=True, tools=[<class '__main__.GradeDocuments'>])\n"
          ]
        },
        {
          "output_type": "stream",
          "name": "stderr",
          "text": [
            "/usr/local/lib/python3.11/dist-packages/IPython/core/interactiveshell.py:3553: LangChainDeprecationWarning: As of langchain-core 0.3.0, LangChain uses pydantic v2 internally. The langchain_core.pydantic_v1 module was a compatibility shim for pydantic v1, and should no longer be used. Please update the code to import from Pydantic directly.\n",
            "\n",
            "For example, replace imports like: `from langchain_core.pydantic_v1 import BaseModel`\n",
            "with: `from pydantic import BaseModel`\n",
            "or the v1 compatibility namespace if you are working in a code base that has not been fully upgraded to pydantic 2 yet. \tfrom pydantic.v1 import BaseModel\n",
            "\n",
            "  exec(code_obj, self.user_global_ns, self.user_ns)\n",
            "/usr/local/lib/python3.11/dist-packages/langchain_openai/chat_models/base.py:1360: UserWarning: Received a Pydantic BaseModel V1 schema. This is not supported by method=\"json_schema\". Please use method=\"function_calling\" or specify schema via JSON Schema or Pydantic V2 BaseModel. Overriding to method=\"function_calling\".\n",
            "  warnings.warn(\n",
            "/usr/local/lib/python3.11/dist-packages/langchain_openai/chat_models/base.py:1373: UserWarning: Cannot use method='json_schema' with model gpt-4-turbo since it doesn't support OpenAI's Structured Output API. You can see supported models here: https://platform.openai.com/docs/guides/structured-outputs#supported-models. To fix this warning, set `method='function_calling'. Overriding to method='function_calling'.\n",
            "  warnings.warn(\n"
          ]
        }
      ]
    },
    {
      "cell_type": "code",
      "source": [
        "query = \"What are some considerations for dress selection for work?\"\n",
        "topk_docs = retriever.invoke(query)\n",
        "for doc in topk_docs:\n",
        "  print(doc.page_content)\n",
        "  print(\"========================\")\n",
        "  print('GRADE:', doc_grader.invoke({\"question\": query, \"document\": doc.page_content}))\n",
        "  print(\"========================\")"
      ],
      "metadata": {
        "colab": {
          "base_uri": "https://localhost:8080/"
        },
        "id": "cr_lvK3xlki-",
        "outputId": "4acb64aa-5b8d-404e-91fc-7d8e4951d522"
      },
      "execution_count": null,
      "outputs": [
        {
          "output_type": "stream",
          "name": "stdout",
          "text": [
            "Dress  Code  Guidelines  for  Work  \n",
            " \n",
            "1.  Purpose  Taking  into  account  the  individuality  of  each  employee  according  to  the  nature  of  the  \n",
            "business,\n",
            " \n",
            "employees\n",
            " \n",
            "are\n",
            " \n",
            "expected\n",
            " \n",
            "to\n",
            " \n",
            "wear\n",
            " \n",
            "work\n",
            " \n",
            "attire\n",
            " \n",
            "that\n",
            " \n",
            "reflects\n",
            " \n",
            "professionalism\n",
            " \n",
            "and\n",
            " \n",
            "decorum.\n",
            "========================\n",
            "GRADE: binary_score='yes'\n",
            "========================\n",
            "and\n",
            " \n",
            "decorum.\n",
            " \n",
            "2.  Considerations  for  Dress  Selection  1.  Maintain  honor  and  dignity  as  professionals.  2.  Always  uphold  neat  and  clean  attire.  3.  Choose  attire  based  on  multiple  objective  criteria.  4.  Wear  clothing  that  does  not  offend  others  or  clients.\n",
            "========================\n",
            "GRADE: binary_score='yes'\n",
            "========================\n",
            "3.  Applicability  1.  All  employees.  2.  For  employees  working  with  client  companies,  follow  the  dress  code  of  the  respective  \n",
            "client.\n",
            " \n",
            "4.  Dress  Standards  1.  Maintain  a  neat  and  simple  business  casual  attire,  with  the  option  of  jeans  and  \n",
            "sneakers.\n",
            "========================\n",
            "GRADE: binary_score='yes'\n",
            "========================\n",
            "Etc.  -  Wear  a  belt  -  Socks  (color  that  matches  clothes)  \n",
            "-  Excessive  accessories,  hats  \n",
            " \n",
            "Attire  for  Female  Employees   Category  Business  Casual  Clothing  to  Avoid\n",
            "========================\n",
            "GRADE: binary_score='yes'\n",
            "========================\n"
          ]
        }
      ]
    },
    {
      "cell_type": "markdown",
      "source": [
        "### Agent 2"
      ],
      "metadata": {
        "id": "nBoKigDwmEAv"
      }
    },
    {
      "cell_type": "code",
      "source": [
        "#Building QA_RAG Chain #Fig 8\n",
        "from langchain_core.prompts import ChatPromptTemplate\n",
        "from langchain_openai import ChatOpenAI\n",
        "from langchain_core.runnables import RunnablePassthrough, RunnableLambda\n",
        "from langchain_core.output_parsers import StrOutputParser\n",
        "from operator import itemgetter\n",
        "#RAG prompt for generating answer\n",
        "prompt = \"\"\"You are an Assistant for a Q&A.\n",
        "Answer the question using the following retrieved Context fragment.\n",
        "If there is no context or you do not know the answer, answer that you do not know the answer\n",
        "Do not construct an answer unless it corresponds to the provided Context.\n",
        "If the Context value is null when constructing an answer,\n",
        "answer 'RAG ddos not have relevant information'.\n",
        "Please provide a detailed and summarized answer to the question.\n",
        "    Question: {question}\n",
        "    Context: {context}\n",
        "    Answer:\n",
        "\"\"\"\n",
        "prompt_template = ChatPromptTemplate.from_template(prompt)\n",
        "#Initialize GPT-4-turbo connection\n",
        "llm = ChatOpenAI(model_name='gpt-4-turbo', temperature=0)\n",
        "#Used to separate context documents on a new line\n",
        "def format_docs(docs):\n",
        "    \"\"\"Formatear los documentos en texto plano\"\"\"\n",
        "    return \"#\\n#\\n\".join(docs)  # Ahora `docs` es una lista de strings\n",
        "#Create QA RAG chain\n",
        "qa_rag_chain = (\n",
        "    {\n",
        "        \"context\": (itemgetter('context') | RunnableLambda(format_docs)),\n",
        "        \"question\": itemgetter('question')\n",
        "    } | prompt_template | llm | StrOutputParser()\n",
        ")"
      ],
      "metadata": {
        "id": "HliTaUD5mFNZ"
      },
      "execution_count": null,
      "outputs": []
    },
    {
      "cell_type": "code",
      "source": [
        "#Fig 9\n",
        "query = \"What are some considerations for dress selection for work?\"\n",
        "topk_docs = retriever.invoke(query)\n",
        "result = qa_rag_chain.invoke(\n",
        "    {\"context\": topk_docs, \"question\": query}\n",
        ")\n",
        "print(result)"
      ],
      "metadata": {
        "colab": {
          "base_uri": "https://localhost:8080/"
        },
        "id": "lYi1izIxnASc",
        "outputId": "3447f294-02b6-4143-c5fd-2c6c53bb5e50"
      },
      "execution_count": null,
      "outputs": [
        {
          "output_type": "stream",
          "name": "stdout",
          "text": [
            "When selecting a dress for work, consider the following based on the provided context:\n",
            "\n",
            "1. **Purpose and Professionalism**: Choose attire that reflects professionalism and decorum, suitable for the nature of the business and respecting individuality.\n",
            "   \n",
            "2. **Key Considerations**:\n",
            "   - Maintain honor and dignity as professionals.\n",
            "   - Always ensure the attire is neat and clean.\n",
            "   - Select clothing based on objective criteria such as the work environment and job role.\n",
            "   - Wear clothing that is respectful and non-offensive to colleagues and clients.\n",
            "\n",
            "3. **Applicability**:\n",
            "   - The guidelines apply to all employees.\n",
            "   - Employees interacting with client companies should adhere to the client's dress code.\n",
            "\n",
            "4. **Dress Standards**:\n",
            "   - Opt for neat, simple business casual attire. Jeans and sneakers may be acceptable depending on the workplace.\n",
            "   - Accessories should be kept minimal; wear a belt and socks that match the clothing color. Avoid excessive accessories and hats.\n",
            "\n",
            "5. **Specifics for Female Employees**:\n",
            "   - Stick to business casual attire and avoid clothing that may be deemed inappropriate for a professional setting.\n",
            "\n",
            "These guidelines help ensure that employees dress appropriately, respecting the workplace culture and external business relations.\n"
          ]
        }
      ]
    },
    {
      "cell_type": "code",
      "source": [
        "#Fig 10\n",
        "query = \"Tell me what is the capital of the country where BTS is located\"\n",
        "topk_docs = retriever.invoke(query)\n",
        "result = qa_rag_chain.invoke(\n",
        "    {\"context\": topk_docs, \"question\": query}\n",
        ")\n",
        "print(result)"
      ],
      "metadata": {
        "colab": {
          "base_uri": "https://localhost:8080/"
        },
        "id": "cKMQetOJoAOQ",
        "outputId": "7cb9d6d6-7e65-47db-d6a1-56557b50f111"
      },
      "execution_count": null,
      "outputs": [
        {
          "output_type": "stream",
          "name": "stdout",
          "text": [
            "RAG does not have relevant information.\n"
          ]
        }
      ]
    },
    {
      "cell_type": "markdown",
      "source": [
        "### Agent 2 Optimized for WebSearch"
      ],
      "metadata": {
        "id": "0Ij1xdXooWMA"
      }
    },
    {
      "cell_type": "code",
      "source": [
        "#Fig 11\n",
        "#Question rewriting - LLM Rewrites entered user queries into questions optimized for web search\n",
        "llm = ChatOpenAI(model=\"gpt-4-turbo\", temperature=0)\n",
        "#Question rewriting - Prompt template\n",
        "SYS_PROMPT = \"\"\"Act as a question rewriter and perform the following task:\n",
        "                - Convert the Following input question into a better version optimized for web searcher\n",
        "                - When rewriting, look at the input question and infer its underlying semantic intent\n",
        "\"\"\"\n",
        "re_write_prompt = ChatPromptTemplate.from_messages(\n",
        "    [\n",
        "        (\"system\", SYS_PROMPT),\n",
        "        (\"human\", \"\"\"First Question:\n",
        "                  {question}\n",
        "                  Write improved questions.\n",
        "                  \"\"\"\n",
        "         ),\n",
        "    ]\n",
        ")\n",
        "#Create a rephraser chain\n",
        "question_rewriter = (re_write_prompt | llm | StrOutputParser())"
      ],
      "metadata": {
        "id": "mOuetoppogpV"
      },
      "execution_count": null,
      "outputs": []
    },
    {
      "cell_type": "code",
      "source": [
        "query = \"Tell me what is the capital of the country where BTS is located\"\n",
        "question_rewriter.invoke({\"question\": query})"
      ],
      "metadata": {
        "colab": {
          "base_uri": "https://localhost:8080/",
          "height": 35
        },
        "id": "H2ZI3gofozPM",
        "outputId": "330d192e-84b9-4833-a89a-6a11533dbebc"
      },
      "execution_count": null,
      "outputs": [
        {
          "output_type": "execute_result",
          "data": {
            "text/plain": [
              "'What is the capital city of South Korea, the country where BTS is based?'"
            ],
            "application/vnd.google.colaboratory.intrinsic+json": {
              "type": "string"
            }
          },
          "metadata": {},
          "execution_count": 23
        }
      ]
    },
    {
      "cell_type": "markdown",
      "source": [
        "### Agent 3 Hallucination grader"
      ],
      "metadata": {
        "id": "dbxqa9YCpn0W"
      }
    },
    {
      "cell_type": "code",
      "source": [
        "from langchain.prompts import PromptTemplate\n",
        "from langchain_core.output_parsers import JsonOutputParser\n",
        "prompt = PromptTemplate(\n",
        "    template=\"\"\" This is an evaluator that evaluates whether or not a hallucination is present.\n",
        "    It fives a binary 'yes' or 'no' to indicate whether or not a hallucination is present.\n",
        "    if you have hallucinations. give 'yes'.\n",
        "    Provide the binary score as a JSON with a\n",
        "    single key 'score' and no preamble or explanation.\n",
        "    Here are the facts:\n",
        "    #/n-----#/n\n",
        "    {documents}\n",
        "    #/n-----#/n\n",
        "    Here is the answer: {generation}\n",
        "    \"\"\",\n",
        "    input_variables=[\"generation\",\"documents\"],\n",
        ")\n",
        "hallucination_grader = prompt | llm | JsonOutputParser()\n",
        "\n",
        "#Run\n",
        "generation = qa_rag_chain.invoke({\"context\": docs, \"question\": query})\n",
        "hallucination_grader_response = hallucination_grader.invoke({\"documents\": docs, \"generation\": generation})\n",
        "print(hallucination_grader_response)"
      ],
      "metadata": {
        "colab": {
          "base_uri": "https://localhost:8080/"
        },
        "id": "qh4FCQrFp195",
        "outputId": "5dfeeca9-1852-47d2-e06e-476b64094098"
      },
      "execution_count": null,
      "outputs": [
        {
          "output_type": "stream",
          "name": "stdout",
          "text": [
            "{'score': 'no'}\n"
          ]
        }
      ]
    },
    {
      "cell_type": "markdown",
      "source": [
        "### Agent 4 Retrieval Grader"
      ],
      "metadata": {
        "id": "ioNf0uPGqE18"
      }
    },
    {
      "cell_type": "code",
      "source": [
        "#Fig 13\n",
        "# Implement the Retrieval Grader: Evaluate whetter the document contains keywords relevant to the  user's question\n",
        "prompt = PromptTemplate(\n",
        "    template=\"\"\" You are a relevante evaluator.\n",
        "    You connec the retrieved document to the user's question. If the document contains keywords relevant to the user\n",
        "    rate it as relevant. There is no need to be strict. The Goal is to filter out bad searches. #/n\n",
        "    You assign a binary score of 'yes' or 'no' indicate whether the document it relevant to the question. #/n\n",
        "      Provide the binary score as a JSON with a sigle key 'score' and  no preamble or explanation.\n",
        "    #/n-----#/n\n",
        "    {documents}\n",
        "    #/n-----#/n\n",
        "    Here is the answer: {generation}\n",
        "    \"\"\",\n",
        "    input_variables=[\"generation\",\"documents\"],\n",
        ")\n",
        "retrieval_grader = prompt | llm | JsonOutputParser()\n",
        "\n",
        "#Run\n",
        "result = qa_rag_chain.invoke({\"context\": docs, \"question\": query})\n",
        "retrieval_grader_response = retrieval_grader.invoke({\"documents\": docs, \"generation\": result})\n",
        "print(retrieval_grader_response)"
      ],
      "metadata": {
        "colab": {
          "base_uri": "https://localhost:8080/"
        },
        "id": "r-yi1BahqEnb",
        "outputId": "75d9d57a-ab05-4210-d2e8-f2c577952bb2"
      },
      "execution_count": null,
      "outputs": [
        {
          "output_type": "stream",
          "name": "stdout",
          "text": [
            "{'score': 'no'}\n"
          ]
        }
      ]
    },
    {
      "cell_type": "markdown",
      "source": [
        "### Definition of Web Search Tool and Agent Graph State"
      ],
      "metadata": {
        "id": "8wTqIvFaqW1R"
      }
    },
    {
      "cell_type": "code",
      "source": [
        "# Fig 14\n",
        "# Load web search tool\n",
        "from langchain_community.tools.tavily_search import TavilySearchResults\n",
        "web_search_tool = TavilySearchResults(max_results=2, search_depth='advanced', max_tokens=5000)"
      ],
      "metadata": {
        "id": "CfDXMmFTqs7P"
      },
      "execution_count": null,
      "outputs": []
    },
    {
      "cell_type": "code",
      "source": [
        "from typing import List\n",
        "from langchain_core.pydantic_v1 import BaseModel, Field\n",
        "\n",
        "# Definir el estado del grafo\n",
        "class GraphState(BaseModel):\n",
        "    \"\"\"Representa el estado del flujo del multiagente\"\"\"\n",
        "    question: str\n",
        "    generation: str = None\n",
        "    web_search_add: str = None\n",
        "    context: List[str] = None\n",
        "'''\n",
        "def retrieve(state):\n",
        "    \"\"\"Recuperar documentos relevantes del vector store\"\"\"\n",
        "    print(\"Buscando en la base de datos vectorial...\")\n",
        "    docs = retriever.invoke(state.question)\n",
        "    return {\"context\": docs, \"question\": state.question}\n",
        "'''\n",
        "def retrieve(state):\n",
        "    \"\"\"Recuperar documentos relevantes del vector store\"\"\"\n",
        "    print(\"Buscando en la base de datos vectorial...\")\n",
        "    docs = retriever.invoke(state.question)\n",
        "    doc_texts = [doc.page_content for doc in docs]  # Extraer solo el contenido de los documentos\n",
        "    return {\"context\": doc_texts, \"question\": state.question}\n",
        "\n",
        "'''\n",
        "def grade_documents(state):\n",
        "    \"\"\"Evaluar la relevancia de los documentos recuperados\"\"\"\n",
        "    print(\"Evaluando relevancia de documentos...\")\n",
        "    grades = [doc_grader.invoke({\"question\": state.question, \"document\": doc.page_content}) for doc in state.context]\n",
        "    relevant_docs = [doc.page_content for doc, grade in zip(state.context, grades) if grade.binary_score == \"yes\"]\n",
        "    return {\"context\": relevant_docs}\n",
        "'''\n",
        "def grade_documents(state):\n",
        "    \"\"\"Evaluar la relevancia de los documentos recuperados\"\"\"\n",
        "    print(\"Evaluando relevancia de documentos...\")\n",
        "    grades = [doc_grader.invoke({\"question\": state.question, \"document\": doc}) for doc in state.context]\n",
        "    relevant_docs = [doc for doc, grade in zip(state.context, grades) if grade.binary_score == \"yes\"]\n",
        "    return {\"context\": relevant_docs}\n",
        "\n",
        "def rewrite_query(state):\n",
        "    \"\"\"Reformular la pregunta para una mejor búsqueda en la web\"\"\"\n",
        "    print(\"Reescribiendo pregunta para web search...\")\n",
        "    rewritten_query = question_rewriter.invoke({\"question\": state.question})\n",
        "    return {\"question\": rewritten_query}\n",
        "\n",
        "'''\n",
        "def web_search(state):\n",
        "    \"\"\"Realizar búsqueda en la web si los documentos recuperados no son suficientes\"\"\"\n",
        "    print(\"Realizando búsqueda en la web...\")\n",
        "    web_results = web_search_tool.invoke(state.question)\n",
        "    return {\"context\": web_results}\n",
        "'''\n",
        "def web_search(state):\n",
        "    \"\"\"Realizar búsqueda en la web si los documentos recuperados no son suficientes\"\"\"\n",
        "    print(\"Realizando búsqueda en la web...\")\n",
        "    web_results = web_search_tool.invoke(state.question)\n",
        "\n",
        "    # Convertir los resultados en una lista de strings\n",
        "    if isinstance(web_results, list):\n",
        "        cleaned_results = [result[\"content\"] if isinstance(result, dict) and \"content\" in result else str(result) for result in web_results]\n",
        "    else:\n",
        "        cleaned_results = [str(web_results)]  # En caso de que sea un solo resultado en lugar de una lista\n",
        "\n",
        "    return {\"context\": cleaned_results}\n",
        "\n",
        "def generate_answer(state):\n",
        "    \"\"\"Generar la respuesta final usando los documentos recuperados\"\"\"\n",
        "    print(\"Generando respuesta...\")\n",
        "    result = qa_rag_chain.invoke({\"context\": state.context, \"question\": state.question})\n",
        "    return {\"generation\": result}\n"
      ],
      "metadata": {
        "id": "JIcwfu8xq2Hs"
      },
      "execution_count": null,
      "outputs": []
    },
    {
      "cell_type": "code",
      "source": [
        "from langgraph.graph import END, StateGraph\n",
        "\n",
        "# Crear el grafo\n",
        "workflow_agent_rag = StateGraph(GraphState)\n",
        "\n",
        "# Agregar nodos al grafo\n",
        "workflow_agent_rag.add_node(\"retrieve\", retrieve)\n",
        "workflow_agent_rag.add_node(\"grade_documents\", grade_documents)\n",
        "workflow_agent_rag.add_node(\"rewrite_query\", rewrite_query)\n",
        "workflow_agent_rag.add_node(\"web_search\", web_search)\n",
        "workflow_agent_rag.add_node(\"generate_answer\", generate_answer)\n",
        "\n",
        "# Definir punto de entrada\n",
        "workflow_agent_rag.set_entry_point(\"retrieve\")\n",
        "\n",
        "# Flujo: Recuperar → Evaluar\n",
        "workflow_agent_rag.add_edge(\"retrieve\", \"grade_documents\")\n",
        "\n",
        "# Flujo condicional: Si los documentos son útiles, generar respuesta. Si no, reformular pregunta.\n",
        "workflow_agent_rag.add_conditional_edges(\n",
        "    \"grade_documents\",\n",
        "    lambda state: \"rewrite_query\" if not state.context else \"generate_answer\",\n",
        "    {\"rewrite_query\": \"rewrite_query\", \"generate_answer\": \"generate_answer\"}\n",
        ")\n",
        "\n",
        "# Flujo: Reformular → Búsqueda en la web → Generar respuesta\n",
        "workflow_agent_rag.add_edge(\"rewrite_query\", \"web_search\")\n",
        "workflow_agent_rag.add_edge(\"web_search\", \"generate_answer\")\n",
        "\n",
        "# Finalizar grafo\n",
        "workflow_agent_rag.add_edge(\"generate_answer\", END)\n",
        "\n",
        "# Compilar el grafo\n",
        "workflow_agent_rag = workflow_agent_rag.compile()\n"
      ],
      "metadata": {
        "id": "CnfK-tuKrVTj"
      },
      "execution_count": null,
      "outputs": []
    },
    {
      "cell_type": "code",
      "source": [
        "# Fig 17\n",
        "from IPython.display import Image, display, Markdown\n",
        "display(Image(workflow_agent_rag.get_graph().draw_mermaid_png()))"
      ],
      "metadata": {
        "colab": {
          "base_uri": "https://localhost:8080/",
          "height": 647
        },
        "id": "gdup_X_qwyDe",
        "outputId": "fdad2afc-dd22-49a5-9d9d-0203aa6c0a4d"
      },
      "execution_count": null,
      "outputs": [
        {
          "output_type": "display_data",
          "data": {
            "image/png": "[encoded data removed]",
            "text/plain": [
              "<IPython.core.display.Image object>"
            ]
          },
          "metadata": {}
        }
      ]
    },
    {
      "cell_type": "code",
      "source": [
        "# Ejecutar el flujo con una pregunta de prueba\n",
        "query = \"What are some considerations for dress selection for work?\"\n",
        "initial_state = GraphState(question=query)\n",
        "result = workflow_agent_rag.invoke(initial_state)\n",
        "\n",
        "# Imprimir el resultado final\n",
        "print(\"Respuesta final generada:\")\n",
        "print(result[\"generation\"])\n"
      ],
      "metadata": {
        "colab": {
          "base_uri": "https://localhost:8080/"
        },
        "id": "HUe1vvDfw-vw",
        "outputId": "60957a74-f512-466c-9d72-6c331002ea5f"
      },
      "execution_count": null,
      "outputs": [
        {
          "output_type": "stream",
          "name": "stdout",
          "text": [
            "Buscando en la base de datos vectorial...\n",
            "Evaluando relevancia de documentos...\n",
            "Generando respuesta...\n",
            "Respuesta final generada:\n",
            "When selecting a dress for work, several considerations should be taken into account according to the provided context:\n",
            "\n",
            "1. **Professionalism and Decorum**: Choose attire that reflects professionalism, maintaining honor and dignity.\n",
            "2. **Cleanliness**: Always ensure that the attire is neat and clean.\n",
            "3. **Objective Criteria**: Selection should be based on multiple objective criteria, ensuring the attire is appropriate for the work environment.\n",
            "4. **Respectfulness**: Wear clothing that does not offend colleagues or clients.\n",
            "5. **Client Interaction**: For those working with client companies, adhere to the dress code of the respective client.\n",
            "6. **Dress Standards**: Maintain a neat and simple business casual attire, with options like jeans and sneakers being acceptable. Accessories should be kept minimal, with belts and socks that match the clothing color recommended.\n",
            "\n",
            "These guidelines help ensure that employees dress in a way that is suitable for their workplace, respecting both the culture of their organization and the expectations of any clients they may interact with.\n"
          ]
        }
      ]
    },
    {
      "cell_type": "code",
      "source": [
        "# Ejecutar el flujo con una pregunta de prueba\n",
        "query = \"Tell me what is the capital of the country where BTS is located?\"\n",
        "initial_state = GraphState(question=query)\n",
        "result = workflow_agent_rag.invoke(initial_state)\n",
        "\n",
        "# Imprimir el resultado final\n",
        "print(\"Respuesta final generada:\")\n",
        "print(result[\"generation\"])"
      ],
      "metadata": {
        "colab": {
          "base_uri": "https://localhost:8080/"
        },
        "id": "mzS3wvu60FKz",
        "outputId": "765ca8f5-0f26-4a9d-d76e-571531163f72"
      },
      "execution_count": null,
      "outputs": [
        {
          "output_type": "stream",
          "name": "stdout",
          "text": [
            "Buscando en la base de datos vectorial...\n",
            "Evaluando relevancia de documentos...\n",
            "Reescribiendo pregunta para web search...\n",
            "Realizando búsqueda en la web...\n",
            "Generando respuesta...\n",
            "Respuesta final generada:\n",
            "The capital city of South Korea is Seoul.\n"
          ]
        }
      ]
    },
    {
      "cell_type": "code",
      "source": [
        "# Ejecutar el flujo con una pregunta de prueba\n",
        "query = \"Me puedes decir el lugar de nacimiento del jugador de Futbol Chileno Alexis Sanchez?\"\n",
        "initial_state = GraphState(question=query)\n",
        "result = workflow_agent_rag.invoke(initial_state)\n",
        "\n",
        "# Imprimir el resultado final\n",
        "print(\"Respuesta final generada:\")\n",
        "print(result[\"generation\"])"
      ],
      "metadata": {
        "colab": {
          "base_uri": "https://localhost:8080/"
        },
        "id": "UY6r4P923_ZW",
        "outputId": "b355c4b3-f72d-47e5-e20b-b93ef6a223d9"
      },
      "execution_count": null,
      "outputs": [
        {
          "output_type": "stream",
          "name": "stdout",
          "text": [
            "Buscando en la base de datos vectorial...\n",
            "Evaluando relevancia de documentos...\n",
            "Reescribiendo pregunta para web search...\n",
            "Realizando búsqueda en la web...\n",
            "Generando respuesta...\n",
            "Respuesta final generada:\n",
            "Alexis Sanchez was born in Tocopilla, Chile.\n"
          ]
        }
      ]
    }
  ]
}